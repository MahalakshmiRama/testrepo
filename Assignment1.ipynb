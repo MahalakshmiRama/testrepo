{
 "cells": [
  {
   "cell_type": "markdown",
   "id": "6f294c94-6206-414c-8c49-cfa2f4f7011e",
   "metadata": {},
   "source": [
    "# \"My Jupyter Notebook on IBM Watson Studio\"\n"
   ]
  },
  {
   "cell_type": "markdown",
   "id": "6a82df64-58f9-467e-8214-0a2a8c8db407",
   "metadata": {},
   "source": [
    "Mahalakshmi\n",
    "Senior Technical Associate\n",
    "\n"
   ]
  },
  {
   "cell_type": "markdown",
   "id": "18d43eee-b0e3-4b0a-acf0-4db2142126eb",
   "metadata": {},
   "source": [
    "I am interested in Data science because, currently Data science has booming in IT world, and many data scientists would be required in f=coming future and I want to grab that opportunity."
   ]
  },
  {
   "cell_type": "markdown",
   "id": "2e59a159-f697-4ada-8885-aed6b2e1d672",
   "metadata": {},
   "source": [
    "My code below performs simple summation by giving values into a and y variables and then summing"
   ]
  },
  {
   "cell_type": "code",
   "execution_count": 1,
   "id": "6c75a913-5118-4195-9485-44c60ddb9e74",
   "metadata": {},
   "outputs": [
    {
     "name": "stdout",
     "output_type": "stream",
     "text": [
      "104\n"
     ]
    }
   ],
   "source": [
    "x=6\n",
    "y=98\n",
    "print(x+y)"
   ]
  },
  {
   "cell_type": "markdown",
   "id": "dbf6b571-e329-4e9a-b70d-8b59e3252d84",
   "metadata": {},
   "source": []
  }
 ],
 "metadata": {
  "kernelspec": {
   "display_name": "Python",
   "language": "python",
   "name": "conda-env-python-py"
  },
  "language_info": {
   "codemirror_mode": {
    "name": "ipython",
    "version": 3
   },
   "file_extension": ".py",
   "mimetype": "text/x-python",
   "name": "python",
   "nbconvert_exporter": "python",
   "pygments_lexer": "ipython3",
   "version": "3.7.12"
  }
 },
 "nbformat": 4,
 "nbformat_minor": 5
}
